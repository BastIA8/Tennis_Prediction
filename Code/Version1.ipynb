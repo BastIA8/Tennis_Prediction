{
 "cells": [
  {
   "cell_type": "code",
   "execution_count": 2,
   "metadata": {},
   "outputs": [],
   "source": [
    "import numpy as np\n",
    "import pandas as pd\n",
    "import tensorflow as tf\n",
    "from tensorflow import keras\n",
    "import matplotlib.pyplot as plt\n",
    "import cv2\n",
    "from sklearn.model_selection import train_test_split\n",
    "from sklearn.preprocessing import StandardScaler, LabelEncoder\n",
    "from sklearn.metrics import accuracy_score, confusion_matrix\n",
    "import seaborn as sns"
   ]
  },
  {
   "cell_type": "code",
   "execution_count": 3,
   "metadata": {},
   "outputs": [],
   "source": [
    "#Récupération des données pour l'entrainement\n",
    "df_for_train = pd.read_csv('../Donnees/tennis_data5ans.csv')\n",
    "\n",
    "#Récupération des données pour le test\n",
    "df_for_test = pd.read_csv('../Donnees/atp_matches_2024.csv')"
   ]
  },
  {
   "cell_type": "code",
   "execution_count": null,
   "metadata": {},
   "outputs": [],
   "source": [
    "# Création du dataframe de train avec deux lignes pour chaque match\n",
    "# Une ligne avec les statistiques du vainqueur et une avec celles du perdant\n",
    "\n",
    "def create_match_rows_train(df):\n",
    "    # DataFrame pour les statistiques du vainqueur\n",
    "    winner_df = df.copy()\n",
    "    winner_df['player_rank'] = df['winner_rank']\n",
    "    winner_df['player_age'] = df['winner_age']\n",
    "    winner_df['player_ace'] = df['w_ace']\n",
    "    winner_df['player_df'] = df['w_df']\n",
    "    winner_df['player_svpt'] = df['w_svpt']\n",
    "    winner_df['player_1stIn'] = df['w_1stIn']\n",
    "    winner_df['player_1stWon'] = df['w_1stWon']\n",
    "    winner_df['player_2ndWon'] = df['w_2ndWon']\n",
    "    winner_df['player_SvGms'] = df['w_SvGms']\n",
    "    winner_df['player_bpSaved'] = df['w_bpSaved']\n",
    "    winner_df['player_bpFaced'] = df['w_bpFaced']\n",
    "    winner_df['result'] = 1  # Le joueur est un gagnant\n",
    "\n",
    "    # DataFrame pour les statistiques du perdant\n",
    "    loser_df = df.copy()\n",
    "    loser_df['player_rank'] = df['loser_rank']\n",
    "    loser_df['player_age'] = df['loser_age']\n",
    "    loser_df['player_ace'] = df['l_ace']\n",
    "    loser_df['player_df'] = df['l_df']\n",
    "    loser_df['player_svpt'] = df['l_svpt']\n",
    "    loser_df['player_1stIn'] = df['l_1stIn']\n",
    "    loser_df['player_1stWon'] = df['l_1stWon']\n",
    "    loser_df['player_2ndWon'] = df['l_2ndWon']\n",
    "    loser_df['player_SvGms'] = df['l_SvGms']\n",
    "    loser_df['player_bpSaved'] = df['l_bpSaved']\n",
    "    loser_df['player_bpFaced'] = df['l_bpFaced']\n",
    "    loser_df['result'] = 0  # Le joueur est un perdant\n",
    "\n",
    "    # Concaténer les deux DataFrames\n",
    "    final_df = pd.concat([winner_df, loser_df])\n",
    "    final_df.reset_index(drop=True, inplace=True)\n",
    "    return final_df\n",
    "\n",
    "# Création du dataframe de test avec deux lignes pour chaque match\n",
    "# Une ligne avec les statistiques du vainqueur et une avec celles du perdant mais la colonne result est vide\n",
    "\n",
    "def create_match_rows_test(df):\n",
    "    # DataFrame pour les statistiques du joueur 1 (vainqueur dans le dataset d'entraînement)\n",
    "    player1_df = df.copy()\n",
    "    player1_df['player_rank'] = df['winner_rank']\n",
    "    player1_df['player_age'] = df['winner_age']\n",
    "    player1_df['player_ace'] = df['w_ace']\n",
    "    player1_df['player_df'] = df['w_df']\n",
    "    player1_df['player_svpt'] = df['w_svpt']\n",
    "    player1_df['player_1stIn'] = df['w_1stIn']\n",
    "    player1_df['player_1stWon'] = df['w_1stWon']\n",
    "    player1_df['player_2ndWon'] = df['w_2ndWon']\n",
    "    player1_df['player_SvGms'] = df['w_SvGms']\n",
    "    player1_df['player_bpSaved'] = df['w_bpSaved']\n",
    "    player1_df['player_bpFaced'] = df['w_bpFaced']\n",
    "    player1_df['result'] = None  # Pas de résultat pour les données de test\n",
    "\n",
    "    # DataFrame pour les statistiques du joueur 2 (perdant dans le dataset d'entraînement)\n",
    "    player2_df = df.copy()\n",
    "    player2_df['player_rank'] = df['loser_rank']\n",
    "    player2_df['player_age'] = df['loser_age']\n",
    "    player2_df['player_ace'] = df['l_ace']\n",
    "    player2_df['player_df'] = df['l_df']\n",
    "    player2_df['player_svpt'] = df['l_svpt']\n",
    "    player2_df['player_1stIn'] = df['l_1stIn']\n",
    "    player2_df['player_1stWon'] = df['l_1stWon']\n",
    "    player2_df['player_2ndWon'] = df['l_2ndWon']\n",
    "    player2_df['player_SvGms'] = df['l_SvGms']\n",
    "    player2_df['player_bpSaved'] = df['l_bpSaved']\n",
    "    player2_df['player_bpFaced'] = df['l_bpFaced']\n",
    "    player2_df['result'] = None  # Pas de résultat pour les données de test\n",
    "\n",
    "    # Concaténer les deux DataFrames\n",
    "    final_df = pd.concat([player1_df, player2_df])\n",
    "    final_df.reset_index(drop=True, inplace=True)\n",
    "\n",
    "    return final_df"
   ]
  },
  {
   "cell_type": "code",
   "execution_count": null,
   "metadata": {},
   "outputs": [],
   "source": [
    "df_for_train = create_match_rows_train(df_for_train)\n",
    "print(df_for_train.info())\n",
    "print(df_for_train.head())"
   ]
  },
  {
   "cell_type": "code",
   "execution_count": null,
   "metadata": {},
   "outputs": [],
   "source": [
    "df_for_test = create_match_rows_test(df_for_test)\n",
    "print(df_for_test.info())\n",
    "print(df_for_test.head())"
   ]
  }
 ],
 "metadata": {
  "kernelspec": {
   "display_name": "IAtennis",
   "language": "python",
   "name": "python3"
  },
  "language_info": {
   "codemirror_mode": {
    "name": "ipython",
    "version": 3
   },
   "file_extension": ".py",
   "mimetype": "text/x-python",
   "name": "python",
   "nbconvert_exporter": "python",
   "pygments_lexer": "ipython3",
   "version": "3.11.9"
  }
 },
 "nbformat": 4,
 "nbformat_minor": 2
}
